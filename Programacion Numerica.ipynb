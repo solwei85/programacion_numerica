{
 "cells": [
  {
   "cell_type": "markdown",
   "id": "e48885d3",
   "metadata": {},
   "source": [
    "Sprint 3 Tarea 4"
   ]
  },
  {
   "cell_type": "code",
   "execution_count": 3,
   "id": "cb457242",
   "metadata": {},
   "outputs": [
    {
     "name": "stdout",
     "output_type": "stream",
     "text": [
      "Minimo:  1\n",
      "Maximo:  10\n",
      "Promedio:  4.166666666666667\n",
      "Deviacion estandar:  2.91070819942883\n"
     ]
    }
   ],
   "source": [
    "#Ejercicio 1\n",
    "import numpy as np\n",
    "array1= np.array([1, 2, 3, 4, 5, 10])\n",
    "if array1.ndim > 1:\n",
    "    print (\"Error. Su array tiene mas de una dimension!\")\n",
    "else:\n",
    "    print(\"Minimo: \", array1.min())\n",
    "    print(\"Maximo: \", array1.max())\n",
    "    print(\"Promedio: \", array1.mean())\n",
    "    print(\"Deviacion estandar: \", np.std(array1))"
   ]
  },
  {
   "cell_type": "code",
   "execution_count": 4,
   "id": "6673aaa0",
   "metadata": {},
   "outputs": [
    {
     "name": "stdout",
     "output_type": "stream",
     "text": [
      "3\n",
      "[[33  7 58]\n",
      " [92  7 21]\n",
      " [74 41 53]]\n"
     ]
    }
   ],
   "source": [
    "#Ejercicio 2\n",
    "num= int(input())\n",
    "array2= np.random.randint(101, size=(num,num))\n",
    "print(array2)"
   ]
  },
  {
   "cell_type": "code",
   "execution_count": 5,
   "id": "2dfc635b",
   "metadata": {},
   "outputs": [
    {
     "name": "stdout",
     "output_type": "stream",
     "text": [
      "2\n",
      "[[ 1  2  3  4  5 22]\n",
      " [ 0  2  3  4  5  1]]\n",
      "[ 1  4  6  8 10 23]\n",
      "[37 15]\n"
     ]
    }
   ],
   "source": [
    "#Ejercicio 3\n",
    "array3= np.array([[1, 2, 3, 4, 5, 22],[0, 2, 3, 4, 5, 1]])\n",
    "print(array3.ndim)\n",
    "print(array3)\n",
    "print(np.sum(array3, axis = 0))#totales por columna\n",
    "#columna 0= 1, columna 1= 4, etc\n",
    "\n",
    "print(np.sum(array3, axis=1))#totales por fila\n",
    "#fila 0= 37, fila 1= 15"
   ]
  },
  {
   "cell_type": "code",
   "execution_count": 6,
   "id": "5715135b",
   "metadata": {},
   "outputs": [
    {
     "name": "stdout",
     "output_type": "stream",
     "text": [
      "[[138.26666667 200.33333333]\n",
      " [200.33333333 353.46666667]]\n"
     ]
    }
   ],
   "source": [
    "#Ejercicio 4\n",
    "peso=[60, 62, 70, 90, 83, 75]\n",
    "altura=[152, 155, 160, 190, 190, 189]\n",
    "cov_mat = np.stack((peso, altura), axis = 0)\n",
    "print(np.cov(cov_mat))"
   ]
  },
  {
   "cell_type": "code",
   "execution_count": 11,
   "id": "385ad622",
   "metadata": {},
   "outputs": [
    {
     "name": "stdout",
     "output_type": "stream",
     "text": [
      "0.9061920308208827\n"
     ]
    }
   ],
   "source": [
    "coeficiente_correlacion= np.cov(cov_mat)[0][1]/(((np.cov(cov_mat)[0][0])**0.5)*((np.cov(cov_mat)[1][1])**0.5))\n",
    "print(coeficiente_correlacion)"
   ]
  },
  {
   "cell_type": "code",
   "execution_count": 4,
   "id": "7b462301",
   "metadata": {},
   "outputs": [],
   "source": [
    "#mismo ejercicio usando funcion\n",
    "def coeficiente_correlacion(a, b):\n",
    "    cov_matriz = np.stack((a, b), axis = 0)\n",
    "    np.cov(cov_matriz)\n",
    "    R = np.cov(cov_matriz)[0][1] / (np.std(a) * np.std(b))\n",
    "    return R"
   ]
  },
  {
   "cell_type": "code",
   "execution_count": 5,
   "id": "eee49887",
   "metadata": {},
   "outputs": [
    {
     "name": "stdout",
     "output_type": "stream",
     "text": [
      "1.0874304369850596\n"
     ]
    }
   ],
   "source": [
    "peso1=[60, 62, 70, 90, 83, 75]\n",
    "altura1=[152, 155, 160, 190, 190, 189]\n",
    "print(coeficiente_correlacion(peso1, altura1)) #no sé por qué me sale un resultado diferente?"
   ]
  },
  {
   "cell_type": "code",
   "execution_count": null,
   "id": "e6fe85cd",
   "metadata": {},
   "outputs": [],
   "source": []
  }
 ],
 "metadata": {
  "kernelspec": {
   "display_name": "Python 3",
   "language": "python",
   "name": "python3"
  },
  "language_info": {
   "codemirror_mode": {
    "name": "ipython",
    "version": 3
   },
   "file_extension": ".py",
   "mimetype": "text/x-python",
   "name": "python",
   "nbconvert_exporter": "python",
   "pygments_lexer": "ipython3",
   "version": "3.8.8"
  }
 },
 "nbformat": 4,
 "nbformat_minor": 5
}
